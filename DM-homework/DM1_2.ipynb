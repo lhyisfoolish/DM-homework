{
 "cells": [
  {
   "cell_type": "raw",
   "metadata": {},
   "source": [
    "# 1. 问题描述\n",
    "# 本次作业中，将选择2个数据集进行探索性分析与预处理。\n",
    "# 2. 数据说明\n",
    "#数据集为Oakland Crime Statistics 2011 to 2016中2015年数据\n",
    "# 3. 数据分析要求\n",
    "# 3.1 数据可视化和摘要\n",
    "# 数据摘要\n",
    "# 对标称属性，给出每个可能取值的频数，\n",
    "# 数值属性，给出最大、最小、均值、中位数、四分位数及缺失值的个数。\n",
    "# 数据的可视化\n",
    "# 针对数值属性，\n",
    "\n",
    "# 绘制直方图，用qq图检验其分布是否为正态分布。\n",
    "# 绘制盒图，对离群值进行识别\n",
    "# 3.2 数据缺失的处理\n",
    "# 观察数据集中缺失数据，分析其缺失的原因。\n",
    "\n",
    "# 分别使用下列四种策略对缺失值进行处理:\n",
    "\n",
    "# 将缺失部分剔除\n",
    "# 用最高频率值来填补缺失值\n",
    "# 通过属性的相关关系来填补缺失值\n",
    "# 通过数据对象之间的相似性来填补缺失值\n",
    "# 处理后，可视化地对比新旧数据集。\n",
    "\n",
    "# ----------------------------------------------------------"
   ]
  },
  {
   "cell_type": "raw",
   "metadata": {},
   "source": [
    "### BEGIN HERE\n",
    "\n",
    "## Dataset\n",
    "# Oakland Crime Statistics 2011 to 2016\n",
    "# https://www.kaggle.com/cityofoakland/oakland-crime-statistics-2011-to-2016\n",
    "\n",
    "# Columns\n",
    "# Agency\n",
    "# Create Time\n",
    "# Location\n",
    "# Area Id\n",
    "# Beat\n",
    "# Priority\n",
    "# Incident Type Id\n",
    "# Incident Type Description\n",
    "# Event Number\n",
    "# Closed Time"
   ]
  },
  {
   "cell_type": "code",
   "execution_count": null,
   "metadata": {},
   "outputs": [],
   "source": [
    "# import basic packages\n",
    "import numpy as np\n",
    "import pandas as pd\n",
    "import scipy.stats as stats\n",
    "import matplotlib.pyplot as plt\n",
    "\n",
    "FILE_PATH = './records-for-2015.csv'\n",
    "\n",
    "# create DataFrame from csv file\n",
    "df = pd.read_csv(FILE_PATH, index_col=0)\n",
    "len_total = df.shape[0]\n",
    "print('It has {0} items in total.'.format(len_total))\n"
   ]
  },
  {
   "cell_type": "code",
   "execution_count": null,
   "metadata": {},
   "outputs": [],
   "source": [
    "## Abstract\n",
    "# Location:\n",
    "print(df['Location'].value_counts())"
   ]
  },
  {
   "cell_type": "code",
   "execution_count": null,
   "metadata": {},
   "outputs": [],
   "source": [
    "# Area Id:\n",
    "print(df['Area Id'].value_counts())"
   ]
  },
  {
   "cell_type": "code",
   "execution_count": null,
   "metadata": {},
   "outputs": [],
   "source": [
    "# Beat:\n",
    "print(df['Beat'].value_counts())"
   ]
  },
  {
   "cell_type": "code",
   "execution_count": null,
   "metadata": {},
   "outputs": [],
   "source": [
    "# Priority:\n",
    "print(df['Priority'].value_counts())"
   ]
  },
  {
   "cell_type": "code",
   "execution_count": null,
   "metadata": {},
   "outputs": [],
   "source": [
    "# Incident Type Id:\n",
    "print(df['Incident Type Id'].value_counts())"
   ]
  },
  {
   "cell_type": "code",
   "execution_count": null,
   "metadata": {},
   "outputs": [],
   "source": [
    "# Incident Type Description:\n",
    "print(df['Incident Type Description'].value_counts())"
   ]
  },
  {
   "cell_type": "raw",
   "metadata": {},
   "source": [
    "# 由于此数据集中，没有数值属性的例子，所以无法绘制柱形图、盒图等。\n",
    "# 将分析犯罪多发时间段、多发地点、多发类型；分析案件的平均处置时间。"
   ]
  },
  {
   "cell_type": "code",
   "execution_count": null,
   "metadata": {},
   "outputs": [],
   "source": [
    "# 1.多发时间段\n",
    "# 分析月份；分析时间段（以一小时为一段）\n",
    "# 提取Create Time, Closed Time中时间的月份并新建一列存储\n",
    "df['Create Time formatted'] = pd.to_datetime(df['Create Time'])\n",
    "df['Closed Time formatted'] = pd.to_datetime(df['Closed Time'])\n",
    "df['Month'] = df['Create Time formatted'].dt.month\n",
    "df['Hour'] = df['Create Time formatted'].dt.hour\n",
    "\n",
    "# 绘制月份直方图\n",
    "\n",
    "histogram_month = df['Month'].hist(\n",
    "    grid=False, xlabelsize=1, bins=12).get_figure()\n",
    "plt.title('histogram of month')\n",
    "plt.show()\n",
    "\n",
    "histogram_hour = df['Hour'].hist(\n",
    "    grid=False, xlabelsize=1, bins=24).get_figure()\n",
    "plt.title('histogram of hour')\n",
    "plt.show()"
   ]
  },
  {
   "cell_type": "code",
   "execution_count": null,
   "metadata": {},
   "outputs": [],
   "source": [
    "# 2.多发地点(只统计TOP 10数据)\n",
    "df['Location'].value_counts()[:10].plot(kind='barh', legend=True, title='Top 10 Locations')\n",
    "plt.show()"
   ]
  },
  {
   "cell_type": "code",
   "execution_count": null,
   "metadata": {},
   "outputs": [],
   "source": [
    "# 3.多发类型(只统计TOP 10数据)\n",
    "df['Incident Type Description'].value_counts()[:10].plot(kind='barh', legend=True, title='Top 10 Types')\n",
    "plt.show()"
   ]
  },
  {
   "cell_type": "code",
   "execution_count": null,
   "metadata": {},
   "outputs": [],
   "source": [
    "# 4.平均处置时间\n",
    "df['Handling Time'] = df['Closed Time formatted'] - df['Create Time formatted']\n",
    "print(df['Handling Time'].mean())"
   ]
  }
 ],
 "metadata": {
  "kernelspec": {
   "display_name": "Python 3",
   "language": "python",
   "name": "python3"
  },
  "language_info": {
   "codemirror_mode": {
    "name": "ipython",
    "version": 3
   },
   "file_extension": ".py",
   "mimetype": "text/x-python",
   "name": "python",
   "nbconvert_exporter": "python",
   "pygments_lexer": "ipython3",
   "version": "3.7.0"
  }
 },
 "nbformat": 4,
 "nbformat_minor": 2
}
